{
 "cells": [
  {
   "cell_type": "code",
   "execution_count": 1,
   "metadata": {},
   "outputs": [],
   "source": [
    "import numpy as np\n",
    "import pandas as pd\n",
    "import os\n",
    "\n",
    "import matplotlib.pyplot as plt\n",
    "import seaborn as sns\n",
    "\n",
    "import warnings \n",
    "\n",
    "%matplotlib inline\n",
    "pd.set_option('display.max_columns', 500)\n",
    "warnings.filterwarnings(action='ignore')"
   ]
  },
  {
   "cell_type": "markdown",
   "metadata": {},
   "source": [
    "# 1. Data Load"
   ]
  },
  {
   "cell_type": "code",
   "execution_count": 2,
   "metadata": {},
   "outputs": [],
   "source": [
    "data = pd.read_csv('data/Classification_bank_loan_modelling/Bank_Personal_Loan_Modelling.csv')"
   ]
  },
  {
   "cell_type": "code",
   "execution_count": 3,
   "metadata": {
    "scrolled": true
   },
   "outputs": [
    {
     "data": {
      "text/html": [
       "<div>\n",
       "<style scoped>\n",
       "    .dataframe tbody tr th:only-of-type {\n",
       "        vertical-align: middle;\n",
       "    }\n",
       "\n",
       "    .dataframe tbody tr th {\n",
       "        vertical-align: top;\n",
       "    }\n",
       "\n",
       "    .dataframe thead th {\n",
       "        text-align: right;\n",
       "    }\n",
       "</style>\n",
       "<table border=\"1\" class=\"dataframe\">\n",
       "  <thead>\n",
       "    <tr style=\"text-align: right;\">\n",
       "      <th></th>\n",
       "      <th>ID</th>\n",
       "      <th>Age</th>\n",
       "      <th>Experience</th>\n",
       "      <th>Income</th>\n",
       "      <th>ZIP Code</th>\n",
       "      <th>Family</th>\n",
       "      <th>CCAvg</th>\n",
       "      <th>Education</th>\n",
       "      <th>Mortgage</th>\n",
       "      <th>Personal Loan</th>\n",
       "      <th>Securities Account</th>\n",
       "      <th>CD Account</th>\n",
       "      <th>Online</th>\n",
       "      <th>CreditCard</th>\n",
       "    </tr>\n",
       "  </thead>\n",
       "  <tbody>\n",
       "    <tr>\n",
       "      <th>0</th>\n",
       "      <td>1</td>\n",
       "      <td>25</td>\n",
       "      <td>1</td>\n",
       "      <td>49</td>\n",
       "      <td>91107</td>\n",
       "      <td>4</td>\n",
       "      <td>1.6</td>\n",
       "      <td>1</td>\n",
       "      <td>0</td>\n",
       "      <td>0</td>\n",
       "      <td>1</td>\n",
       "      <td>0</td>\n",
       "      <td>0</td>\n",
       "      <td>0</td>\n",
       "    </tr>\n",
       "    <tr>\n",
       "      <th>1</th>\n",
       "      <td>2</td>\n",
       "      <td>45</td>\n",
       "      <td>19</td>\n",
       "      <td>34</td>\n",
       "      <td>90089</td>\n",
       "      <td>3</td>\n",
       "      <td>1.5</td>\n",
       "      <td>1</td>\n",
       "      <td>0</td>\n",
       "      <td>0</td>\n",
       "      <td>1</td>\n",
       "      <td>0</td>\n",
       "      <td>0</td>\n",
       "      <td>0</td>\n",
       "    </tr>\n",
       "    <tr>\n",
       "      <th>2</th>\n",
       "      <td>3</td>\n",
       "      <td>39</td>\n",
       "      <td>15</td>\n",
       "      <td>11</td>\n",
       "      <td>94720</td>\n",
       "      <td>1</td>\n",
       "      <td>1.0</td>\n",
       "      <td>1</td>\n",
       "      <td>0</td>\n",
       "      <td>0</td>\n",
       "      <td>0</td>\n",
       "      <td>0</td>\n",
       "      <td>0</td>\n",
       "      <td>0</td>\n",
       "    </tr>\n",
       "    <tr>\n",
       "      <th>3</th>\n",
       "      <td>4</td>\n",
       "      <td>35</td>\n",
       "      <td>9</td>\n",
       "      <td>100</td>\n",
       "      <td>94112</td>\n",
       "      <td>1</td>\n",
       "      <td>2.7</td>\n",
       "      <td>2</td>\n",
       "      <td>0</td>\n",
       "      <td>0</td>\n",
       "      <td>0</td>\n",
       "      <td>0</td>\n",
       "      <td>0</td>\n",
       "      <td>0</td>\n",
       "    </tr>\n",
       "    <tr>\n",
       "      <th>4</th>\n",
       "      <td>5</td>\n",
       "      <td>35</td>\n",
       "      <td>8</td>\n",
       "      <td>45</td>\n",
       "      <td>91330</td>\n",
       "      <td>4</td>\n",
       "      <td>1.0</td>\n",
       "      <td>2</td>\n",
       "      <td>0</td>\n",
       "      <td>0</td>\n",
       "      <td>0</td>\n",
       "      <td>0</td>\n",
       "      <td>0</td>\n",
       "      <td>1</td>\n",
       "    </tr>\n",
       "    <tr>\n",
       "      <th>...</th>\n",
       "      <td>...</td>\n",
       "      <td>...</td>\n",
       "      <td>...</td>\n",
       "      <td>...</td>\n",
       "      <td>...</td>\n",
       "      <td>...</td>\n",
       "      <td>...</td>\n",
       "      <td>...</td>\n",
       "      <td>...</td>\n",
       "      <td>...</td>\n",
       "      <td>...</td>\n",
       "      <td>...</td>\n",
       "      <td>...</td>\n",
       "      <td>...</td>\n",
       "    </tr>\n",
       "    <tr>\n",
       "      <th>4995</th>\n",
       "      <td>4996</td>\n",
       "      <td>29</td>\n",
       "      <td>3</td>\n",
       "      <td>40</td>\n",
       "      <td>92697</td>\n",
       "      <td>1</td>\n",
       "      <td>1.9</td>\n",
       "      <td>3</td>\n",
       "      <td>0</td>\n",
       "      <td>0</td>\n",
       "      <td>0</td>\n",
       "      <td>0</td>\n",
       "      <td>1</td>\n",
       "      <td>0</td>\n",
       "    </tr>\n",
       "    <tr>\n",
       "      <th>4996</th>\n",
       "      <td>4997</td>\n",
       "      <td>30</td>\n",
       "      <td>4</td>\n",
       "      <td>15</td>\n",
       "      <td>92037</td>\n",
       "      <td>4</td>\n",
       "      <td>0.4</td>\n",
       "      <td>1</td>\n",
       "      <td>85</td>\n",
       "      <td>0</td>\n",
       "      <td>0</td>\n",
       "      <td>0</td>\n",
       "      <td>1</td>\n",
       "      <td>0</td>\n",
       "    </tr>\n",
       "    <tr>\n",
       "      <th>4997</th>\n",
       "      <td>4998</td>\n",
       "      <td>63</td>\n",
       "      <td>39</td>\n",
       "      <td>24</td>\n",
       "      <td>93023</td>\n",
       "      <td>2</td>\n",
       "      <td>0.3</td>\n",
       "      <td>3</td>\n",
       "      <td>0</td>\n",
       "      <td>0</td>\n",
       "      <td>0</td>\n",
       "      <td>0</td>\n",
       "      <td>0</td>\n",
       "      <td>0</td>\n",
       "    </tr>\n",
       "    <tr>\n",
       "      <th>4998</th>\n",
       "      <td>4999</td>\n",
       "      <td>65</td>\n",
       "      <td>40</td>\n",
       "      <td>49</td>\n",
       "      <td>90034</td>\n",
       "      <td>3</td>\n",
       "      <td>0.5</td>\n",
       "      <td>2</td>\n",
       "      <td>0</td>\n",
       "      <td>0</td>\n",
       "      <td>0</td>\n",
       "      <td>0</td>\n",
       "      <td>1</td>\n",
       "      <td>0</td>\n",
       "    </tr>\n",
       "    <tr>\n",
       "      <th>4999</th>\n",
       "      <td>5000</td>\n",
       "      <td>28</td>\n",
       "      <td>4</td>\n",
       "      <td>83</td>\n",
       "      <td>92612</td>\n",
       "      <td>3</td>\n",
       "      <td>0.8</td>\n",
       "      <td>1</td>\n",
       "      <td>0</td>\n",
       "      <td>0</td>\n",
       "      <td>0</td>\n",
       "      <td>0</td>\n",
       "      <td>1</td>\n",
       "      <td>1</td>\n",
       "    </tr>\n",
       "  </tbody>\n",
       "</table>\n",
       "<p>5000 rows × 14 columns</p>\n",
       "</div>"
      ],
      "text/plain": [
       "        ID  Age  Experience  Income  ZIP Code  Family  CCAvg  Education  \\\n",
       "0        1   25           1      49     91107       4    1.6          1   \n",
       "1        2   45          19      34     90089       3    1.5          1   \n",
       "2        3   39          15      11     94720       1    1.0          1   \n",
       "3        4   35           9     100     94112       1    2.7          2   \n",
       "4        5   35           8      45     91330       4    1.0          2   \n",
       "...    ...  ...         ...     ...       ...     ...    ...        ...   \n",
       "4995  4996   29           3      40     92697       1    1.9          3   \n",
       "4996  4997   30           4      15     92037       4    0.4          1   \n",
       "4997  4998   63          39      24     93023       2    0.3          3   \n",
       "4998  4999   65          40      49     90034       3    0.5          2   \n",
       "4999  5000   28           4      83     92612       3    0.8          1   \n",
       "\n",
       "      Mortgage  Personal Loan  Securities Account  CD Account  Online  \\\n",
       "0            0              0                   1           0       0   \n",
       "1            0              0                   1           0       0   \n",
       "2            0              0                   0           0       0   \n",
       "3            0              0                   0           0       0   \n",
       "4            0              0                   0           0       0   \n",
       "...        ...            ...                 ...         ...     ...   \n",
       "4995         0              0                   0           0       1   \n",
       "4996        85              0                   0           0       1   \n",
       "4997         0              0                   0           0       0   \n",
       "4998         0              0                   0           0       1   \n",
       "4999         0              0                   0           0       1   \n",
       "\n",
       "      CreditCard  \n",
       "0              0  \n",
       "1              0  \n",
       "2              0  \n",
       "3              0  \n",
       "4              1  \n",
       "...          ...  \n",
       "4995           0  \n",
       "4996           0  \n",
       "4997           0  \n",
       "4998           0  \n",
       "4999           1  \n",
       "\n",
       "[5000 rows x 14 columns]"
      ]
     },
     "execution_count": 3,
     "metadata": {},
     "output_type": "execute_result"
    }
   ],
   "source": [
    "data"
   ]
  },
  {
   "cell_type": "code",
   "execution_count": 4,
   "metadata": {
    "scrolled": true
   },
   "outputs": [
    {
     "name": "stdout",
     "output_type": "stream",
     "text": [
      "<class 'pandas.core.frame.DataFrame'>\n",
      "RangeIndex: 5000 entries, 0 to 4999\n",
      "Data columns (total 14 columns):\n",
      " #   Column              Non-Null Count  Dtype  \n",
      "---  ------              --------------  -----  \n",
      " 0   ID                  5000 non-null   int64  \n",
      " 1   Age                 5000 non-null   int64  \n",
      " 2   Experience          5000 non-null   int64  \n",
      " 3   Income              5000 non-null   int64  \n",
      " 4   ZIP Code            5000 non-null   int64  \n",
      " 5   Family              5000 non-null   int64  \n",
      " 6   CCAvg               5000 non-null   float64\n",
      " 7   Education           5000 non-null   int64  \n",
      " 8   Mortgage            5000 non-null   int64  \n",
      " 9   Personal Loan       5000 non-null   int64  \n",
      " 10  Securities Account  5000 non-null   int64  \n",
      " 11  CD Account          5000 non-null   int64  \n",
      " 12  Online              5000 non-null   int64  \n",
      " 13  CreditCard          5000 non-null   int64  \n",
      "dtypes: float64(1), int64(13)\n",
      "memory usage: 547.0 KB\n"
     ]
    }
   ],
   "source": [
    "data.info()"
   ]
  },
  {
   "cell_type": "code",
   "execution_count": 5,
   "metadata": {},
   "outputs": [
    {
     "data": {
      "image/png": "[encoded data removed]",
      "text/plain": [
       "<IPython.core.display.Image object>"
      ]
     },
     "execution_count": 5,
     "metadata": {},
     "output_type": "execute_result"
    }
   ],
   "source": [
    "from IPython.display import Image\n",
    "Image('image/features.png')"
   ]
  },
  {
   "cell_type": "markdown",
   "metadata": {},
   "source": [
    "**Null 값은 따로 존재하지 않고, 모두 int 또는 flaot 타입**"
   ]
  },
  {
   "cell_type": "code",
   "execution_count": 6,
   "metadata": {
    "scrolled": true
   },
   "outputs": [
    {
     "name": "stdout",
     "output_type": "stream",
     "text": [
      "ID's unique values are [   1    2    3 ... 4998 4999 5000]\n",
      "-----------------------------------------------------------------------------------------------\n",
      "Age's unique values are [23 24 25 26 27 28 29 30 31 32 33 34 35 36 37 38 39 40 41 42 43 44 45 46\n",
      " 47 48 49 50 51 52 53 54 55 56 57 58 59 60 61 62 63 64 65 66 67]\n",
      "-----------------------------------------------------------------------------------------------\n",
      "Experience's unique values are [-3 -2 -1  0  1  2  3  4  5  6  7  8  9 10 11 12 13 14 15 16 17 18 19 20\n",
      " 21 22 23 24 25 26 27 28 29 30 31 32 33 34 35 36 37 38 39 40 41 42 43]\n",
      "-----------------------------------------------------------------------------------------------\n",
      "Income's unique values are [  8   9  10  11  12  13  14  15  18  19  20  21  22  23  24  25  28  29\n",
      "  30  31  32  33  34  35  38  39  40  41  42  43  44  45  48  49  50  51\n",
      "  52  53  54  55  58  59  60  61  62  63  64  65  68  69  70  71  72  73\n",
      "  74  75  78  79  80  81  82  83  84  85  88  89  90  91  92  93  94  95\n",
      "  98  99 100 101 102 103 104 105 108 109 110 111 112 113 114 115 118 119\n",
      " 120 121 122 123 124 125 128 129 130 131 132 133 134 135 138 139 140 141\n",
      " 142 143 144 145 148 149 150 151 152 153 154 155 158 159 160 161 162 163\n",
      " 164 165 168 169 170 171 172 173 174 175 178 179 180 181 182 183 184 185\n",
      " 188 189 190 191 192 193 194 195 198 199 200 201 202 203 204 205 218 224]\n",
      "-----------------------------------------------------------------------------------------------\n",
      "ZIP Code's unique values are [ 9307 90005 90007 90009 90011 90016 90018 90019 90024 90025 90027 90028\n",
      " 90029 90032 90033 90034 90035 90036 90037 90041 90044 90045 90048 90049\n",
      " 90057 90058 90059 90064 90065 90066 90068 90071 90073 90086 90089 90095\n",
      " 90210 90212 90230 90232 90245 90250 90254 90266 90272 90274 90275 90277\n",
      " 90280 90291 90304 90401 90404 90405 90502 90503 90504 90505 90509 90601\n",
      " 90623 90630 90638 90639 90640 90650 90717 90720 90740 90745 90747 90755\n",
      " 90813 90840 91006 91007 91016 91024 91030 91040 91101 91103 91105 91107\n",
      " 91109 91116 91125 91129 91203 91207 91301 91302 91304 91311 91320 91326\n",
      " 91330 91335 91342 91343 91345 91355 91360 91361 91365 91367 91380 91401\n",
      " 91423 91604 91605 91614 91706 91709 91710 91711 91730 91741 91745 91754\n",
      " 91763 91765 91768 91770 91773 91775 91784 91791 91801 91902 91910 91911\n",
      " 91941 91942 91950 92007 92008 92009 92024 92028 92029 92037 92038 92054\n",
      " 92056 92064 92068 92069 92084 92093 92096 92101 92103 92104 92106 92109\n",
      " 92110 92115 92116 92120 92121 92122 92123 92124 92126 92129 92130 92131\n",
      " 92152 92154 92161 92173 92177 92182 92192 92220 92251 92325 92333 92346\n",
      " 92350 92354 92373 92374 92399 92407 92507 92518 92521 92606 92612 92614\n",
      " 92624 92626 92630 92634 92646 92647 92648 92653 92660 92661 92672 92673\n",
      " 92675 92677 92691 92692 92694 92697 92703 92704 92705 92709 92717 92735\n",
      " 92780 92806 92807 92821 92831 92833 92834 92835 92843 92866 92867 92868\n",
      " 92870 92886 93003 93009 93010 93014 93022 93023 93033 93063 93065 93101\n",
      " 93105 93106 93107 93108 93109 93111 93117 93118 93302 93305 93311 93401\n",
      " 93403 93407 93437 93460 93524 93555 93561 93611 93657 93711 93720 93727\n",
      " 93907 93933 93940 93943 93950 93955 94002 94005 94010 94015 94019 94022\n",
      " 94024 94025 94028 94035 94040 94043 94061 94063 94065 94066 94080 94085\n",
      " 94086 94087 94102 94104 94105 94107 94108 94109 94110 94111 94112 94114\n",
      " 94115 94116 94117 94118 94122 94123 94124 94126 94131 94132 94143 94234\n",
      " 94301 94302 94303 94304 94305 94306 94309 94402 94404 94501 94507 94509\n",
      " 94521 94523 94526 94534 94536 94538 94539 94542 94545 94546 94550 94551\n",
      " 94553 94555 94558 94566 94571 94575 94577 94583 94588 94590 94591 94596\n",
      " 94598 94604 94606 94607 94608 94609 94610 94611 94612 94618 94701 94703\n",
      " 94704 94705 94706 94707 94708 94709 94710 94720 94801 94803 94806 94901\n",
      " 94904 94920 94923 94928 94939 94949 94960 94965 94970 94998 95003 95005\n",
      " 95006 95008 95010 95014 95020 95023 95032 95035 95037 95039 95045 95051\n",
      " 95053 95054 95060 95064 95070 95112 95120 95123 95125 95126 95131 95133\n",
      " 95134 95135 95136 95138 95192 95193 95207 95211 95307 95348 95351 95354\n",
      " 95370 95403 95405 95422 95449 95482 95503 95518 95521 95605 95616 95617\n",
      " 95621 95630 95670 95678 95741 95747 95758 95762 95812 95814 95816 95817\n",
      " 95818 95819 95820 95821 95822 95825 95827 95828 95831 95833 95841 95842\n",
      " 95929 95973 96001 96003 96008 96064 96091 96094 96145 96150 96651]\n",
      "-----------------------------------------------------------------------------------------------\n",
      "Family's unique values are [1 2 3 4]\n",
      "-----------------------------------------------------------------------------------------------\n",
      "CCAvg's unique values are [ 0.    0.1   0.2   0.3   0.4   0.5   0.6   0.67  0.7   0.75  0.8   0.9\n",
      "  1.    1.1   1.2   1.3   1.33  1.4   1.5   1.6   1.67  1.7   1.75  1.8\n",
      "  1.9   2.    2.1   2.2   2.3   2.33  2.4   2.5   2.6   2.67  2.7   2.75\n",
      "  2.8   2.9   3.    3.1   3.2   3.25  3.3   3.33  3.4   3.5   3.6   3.67\n",
      "  3.7   3.8   3.9   4.    4.1   4.2   4.25  4.3   4.33  4.4   4.5   4.6\n",
      "  4.67  4.7   4.75  4.8   4.9   5.    5.1   5.2   5.3   5.33  5.4   5.5\n",
      "  5.6   5.67  5.7   5.8   5.9   6.    6.1   6.2   6.3   6.33  6.4   6.5\n",
      "  6.6   6.67  6.7   6.8   6.9   7.    7.2   7.3   7.4   7.5   7.6   7.8\n",
      "  7.9   8.    8.1   8.2   8.3   8.5   8.6   8.8   8.9   9.    9.3  10.  ]\n",
      "-----------------------------------------------------------------------------------------------\n",
      "Education's unique values are [1 2 3]\n",
      "-----------------------------------------------------------------------------------------------\n",
      "Mortgage's unique values are [  0  75  76  77  78  79  80  81  82  83  84  85  86  87  88  89  90  91\n",
      "  92  93  94  95  96  97  98  99 100 101 102 103 104 105 106 107 108 109\n",
      " 110 111 112 113 114 115 116 117 118 119 120 121 122 123 124 125 126 127\n",
      " 128 129 130 131 132 133 134 135 136 137 138 139 140 141 142 143 144 145\n",
      " 146 147 148 149 150 151 152 153 154 155 156 157 158 159 160 161 162 163\n",
      " 164 165 166 167 168 169 170 171 172 173 174 175 176 177 178 179 180 181\n",
      " 182 183 184 185 186 187 188 189 190 191 192 193 194 195 196 197 198 199\n",
      " 200 201 202 203 204 205 206 207 208 209 210 211 212 213 214 215 216 217\n",
      " 218 219 220 221 222 223 224 225 226 227 228 229 230 231 232 233 234 235\n",
      " 236 237 238 239 240 241 242 243 244 245 246 247 248 249 250 251 252 253\n",
      " 255 256 257 258 259 260 262 263 264 265 266 267 268 270 271 272 273 275\n",
      " 276 277 278 280 281 282 283 284 285 286 287 289 290 292 293 294 295 296\n",
      " 297 298 299 300 301 302 303 304 305 306 307 308 309 310 311 312 313 314\n",
      " 315 318 319 321 322 323 325 326 327 328 329 330 331 333 334 336 337 341\n",
      " 342 343 344 345 351 352 353 354 355 357 358 359 360 361 364 366 368 372\n",
      " 373 374 378 380 381 382 383 385 389 391 392 394 396 397 398 400 402 403\n",
      " 405 406 408 410 412 415 416 419 421 422 427 428 429 431 432 433 437 442\n",
      " 446 449 452 455 458 461 464 466 467 470 475 477 481 483 485 496 500 505\n",
      " 508 509 522 524 535 541 547 550 553 565 567 569 571 577 581 582 587 589\n",
      " 590 601 612 617 635]\n",
      "-----------------------------------------------------------------------------------------------\n",
      "Personal Loan's unique values are [0 1]\n",
      "-----------------------------------------------------------------------------------------------\n",
      "Securities Account's unique values are [0 1]\n",
      "-----------------------------------------------------------------------------------------------\n",
      "CD Account's unique values are [0 1]\n",
      "-----------------------------------------------------------------------------------------------\n",
      "Online's unique values are [0 1]\n",
      "-----------------------------------------------------------------------------------------------\n",
      "CreditCard's unique values are [0 1]\n",
      "-----------------------------------------------------------------------------------------------\n"
     ]
    }
   ],
   "source": [
    "#check columns unique value\n",
    "columns = data.columns\n",
    "    \n",
    "for col in columns :\n",
    "    print(\"{0}'s unique values are {1}\".format(col, np.unique(data[col])))\n",
    "    print('-----------------------------------------------------------------------------------------------')"
   ]
  },
  {
   "cell_type": "markdown",
   "metadata": {},
   "source": [
    "**ZIP code는 bank loan에 큰 영향을 미치지 않는것으로 판단되어 column삭제**  "
   ]
  },
  {
   "cell_type": "code",
   "execution_count": 7,
   "metadata": {},
   "outputs": [],
   "source": [
    "data = data.drop(['ZIP Code'], axis=1)"
   ]
  },
  {
   "cell_type": "code",
   "execution_count": 8,
   "metadata": {},
   "outputs": [],
   "source": [
    "X = data.loc[:, data.columns!='Personal Loan']\n",
    "y = data.loc[:, data.columns=='Personal Loan']"
   ]
  },
  {
   "cell_type": "code",
   "execution_count": 9,
   "metadata": {},
   "outputs": [],
   "source": [
    "## y의 name \n",
    "target_att = 'Personal Loan'\n",
    "\n",
    "## x의 name\n",
    "in_feature = list(data.columns [data.columns != target_att])\n",
    "\n",
    "## data column 중 categorical variable 찾기\n",
    "cate_col = [col for col in in_feature if not np.issubdtype(X[col].dtype, np.number)]\n",
    "\n",
    "## X의 string 값을 dummey variable로 변환 \n",
    "X_dummies= pd.get_dummies(X.loc[:,in_feature], columns=cate_col)\n",
    "feature_names = X_dummies.columns\n",
    "\n",
    "## y의 string 값을 numeric으로 변환 \n",
    "y, class_names = pd.factorize(data[target_att])\n",
    "\n",
    "from sklearn.model_selection import train_test_split  \n",
    "## train, test = 8:2, random split\n",
    "X_train, X_test, y_train, y_test = train_test_split(X_dummies, y, test_size=0.2, )"
   ]
  },
  {
   "cell_type": "markdown",
   "metadata": {},
   "source": [
    "# 2. 분석 "
   ]
  },
  {
   "cell_type": "markdown",
   "metadata": {},
   "source": [
    "### module import"
   ]
  },
  {
   "cell_type": "code",
   "execution_count": 10,
   "metadata": {},
   "outputs": [],
   "source": [
    "import os\n",
    "os.chdir(r\"./tree_gain_ratio\")\n",
    "workingdir = os.path.join(os.getcwd(), '.')\n",
    "os.chdir(os.path.join(workingdir, 'modules' )) "
   ]
  },
  {
   "cell_type": "code",
   "execution_count": 11,
   "metadata": {},
   "outputs": [
    {
     "data": {
      "text/plain": [
       "'/home/inno/Study/Data_mining/project/tree_gain_ratio/modules'"
      ]
     },
     "execution_count": 11,
     "metadata": {},
     "output_type": "execute_result"
    }
   ],
   "source": [
    "os.getcwd()"
   ]
  },
  {
   "cell_type": "code",
   "execution_count": 12,
   "metadata": {},
   "outputs": [],
   "source": [
    "# entropy_gain을 구하기 위한 .py파일 \n",
    "from usertree import userTree as utr\n",
    "import utils"
   ]
  },
  {
   "cell_type": "markdown",
   "metadata": {},
   "source": [
    "### 파라미터 설정 및 데이터 split"
   ]
  },
  {
   "cell_type": "code",
   "execution_count": 13,
   "metadata": {},
   "outputs": [],
   "source": [
    "# DT termination criteria #\n",
    "## MAX_DEPTH: 기존 모델의 max_depth와 같음\n",
    "## min_samples_leaf: 기존모델의 min_samples_leaf와 같음\n",
    "# -> MAX_DEPTH는 변경불가 \n",
    "MAX_DEPTH = 1000\n",
    "\n",
    "sample_ratio = 0.03\n",
    "min_sample_leaf = round(sample_ratio * len(X_train))\n",
    "\n",
    "# data를 data frame형태로 train, test로 나눔\n",
    "train_idx, test_idx = X_train.index, X_test.index\n",
    "train, test = data.loc[train_idx,:], data.loc[test_idx,:]"
   ]
  },
  {
   "cell_type": "code",
   "execution_count": 14,
   "metadata": {},
   "outputs": [
    {
     "data": {
      "text/plain": [
       "{0: 4520, 1: 480}"
      ]
     },
     "execution_count": 14,
     "metadata": {},
     "output_type": "execute_result"
    }
   ],
   "source": [
    "train = train.sort_index()\n",
    "\n",
    "#  실제 데이터의 class별 각 갯수 #\n",
    "## original y의 class 수 ##\n",
    "\n",
    "# data y의 이름을 넣으면 됌 #\n",
    "uni_class = np.unique(data['Personal Loan'])\n",
    "\n",
    "class_number = {}\n",
    "for i in uni_class:    \n",
    "    class_number[i] = len(data[data['Personal Loan'] == i])\n",
    "    \n",
    "class_number"
   ]
  },
  {
   "cell_type": "code",
   "execution_count": 15,
   "metadata": {},
   "outputs": [
    {
     "data": {
      "text/plain": [
       "{0: 3619, 1: 381}"
      ]
     },
     "execution_count": 15,
     "metadata": {},
     "output_type": "execute_result"
    }
   ],
   "source": [
    "# 실제 train 데이터의 class별 각 갯수 #\n",
    "\n",
    "# data의 y의 이름을 넣으면 됌 #\n",
    "tra_uni_class = np.unique(train['Personal Loan'])\n",
    "tra_class_number = {}\n",
    "for i in tra_uni_class:    \n",
    "    tra_class_number[i] = len(train[train['Personal Loan'] == i])\n",
    "    \n",
    "tra_class_number"
   ]
  },
  {
   "cell_type": "markdown",
   "metadata": {},
   "source": [
    "### 모델 생성 ###\n",
    "> min sample leaf, max depth, params(entropy, gini, entropy_GR 중 하나) 순으로 알맞게 넣음\n"
   ]
  },
  {
   "cell_type": "code",
   "execution_count": 16,
   "metadata": {},
   "outputs": [],
   "source": [
    "# 모델 생성 #\n",
    "## min_samples_leaf: 노드의 최소 데이터 수\n",
    "## MAX_DEPTH: 나무의 가지 수\n",
    "## params: 분기기준 -> entropy, gini, entropy_GR 총 3개 사용가능\n",
    "## simplify: 각 어떤 노드를 기준으로 child node로 분기 했을 때 child node의 분기 예측값이 같다면 분기하지않고 이전 노드를 유지함\n",
    "\n",
    "#CART_entropy_ins = utr(min_sample_leaf, MAX_DEPTH, params ='entropy', simplify=True)\n",
    "CART_gini_ins = utr(min_sample_leaf, MAX_DEPTH, params ='gini', simplify=True)\n",
    "#CART_entropy_GR_ins = utr(min_sample_leaf, MAX_DEPTH, params ='entropy_GR', simplify=True)"
   ]
  },
  {
   "cell_type": "markdown",
   "metadata": {},
   "source": [
    "### 모델 피팅 ###\n",
    "> train data와 data의 target 이름을 각각 넣음"
   ]
  },
  {
   "cell_type": "code",
   "execution_count": 17,
   "metadata": {},
   "outputs": [],
   "source": [
    "# 모델 피팅 # \n",
    "## train: dataframe형태로 된 data\n",
    "## target_attribute_name: target data로 설정된 y값 이름\n",
    "gini_tree, gini_pprint_tree = CART_gini_ins.fit(train, target_attribute_name = \"Personal Loan\")  "
   ]
  },
  {
   "cell_type": "code",
   "execution_count": 18,
   "metadata": {},
   "outputs": [],
   "source": [
    "## CART_entropy_GR_tree: tree에서 분리된 노드들의 분기기준과 data의 index, target(=class)가 출력 -> 성능측정용\n",
    "## CART_entropy_GR_graph_tree: tree 그래프를 생성하기 위한 값 저장 \n",
    "CART_gini_tree, CART_gini_graph_tree = CART_gini_ins.tree, CART_gini_ins.graph_tree   "
   ]
  },
  {
   "cell_type": "code",
   "execution_count": 19,
   "metadata": {},
   "outputs": [
    {
     "name": "stdout",
     "output_type": "stream",
     "text": [
      "class prior: [0.90475, 0.09525]\n",
      "leaf node별 class수: [3150, 67]\n",
      "leaf node별 class수: [454, 59]\n",
      "leaf node별 class수: [15, 255]\n"
     ]
    }
   ],
   "source": [
    "## utils.get_usrt_info 코드 설명 ##\n",
    "# train: data의 train data\n",
    "# CART_gini_tree: tree에서 분리된 노드들의 분기기준과 data의 index, target(=class)가 출력 -> 성능측정용\n",
    "# target_att: data의 y이름\n",
    "\n",
    "tree_data = utils.get_usrt_info(train ,CART_gini_tree, target_att = \"Personal Loan\")"
   ]
  },
  {
   "cell_type": "code",
   "execution_count": 20,
   "metadata": {},
   "outputs": [],
   "source": [
    "tree_data = tree_data[['depth', 'lift', 'coverage', 'homogeneity', 'pred', 'number_of_variable']]"
   ]
  },
  {
   "cell_type": "code",
   "execution_count": 21,
   "metadata": {
    "scrolled": true
   },
   "outputs": [
    {
     "data": {
      "text/plain": [
       "{'[label=\"Income < 113.5\\\\nsamples = 4000\\\\nsamples/class = [3619, 381]\"] ;': '[label=\"predict = 0\\\\nhomogeneity = 0.979\\\\ncoverage = 0.804\\\\nsamples/class = [3150, 67]\"] ;',\n",
       " '[label=\"Income >= 113.5\\\\nsamples = 4000\\\\nsamples/class = [3619, 381]\"] ;': {'[label=\"Education < 1.5\\\\nsamples = 783\\\\nsamples/class = [469, 314]\"] ;': '[label=\"predict = 0\\\\nhomogeneity = 0.885\\\\ncoverage = 0.128\\\\nsamples/class = [454, 59]\"] ;',\n",
       "  '[label=\"Education >= 1.5\\\\nsamples = 783\\\\nsamples/class = [469, 314]\"] ;': '[label=\"predict = 1\\\\nhomogeneity = 0.944\\\\ncoverage = 0.068\\\\nsamples/class = [15, 255]\"] ;'}}"
      ]
     },
     "execution_count": 21,
     "metadata": {},
     "output_type": "execute_result"
    }
   ],
   "source": [
    "CART_gini_graph_tree"
   ]
  },
  {
   "cell_type": "markdown",
   "metadata": {},
   "source": [
    "### 그래프 생성 ###\n",
    "> CART_gini_ins.graph.tree_to_graph에 CART_gini_graph_tree를 넣고 node와 edge에 대한 데이터를 생성한 뒤, \\\n",
    "> node와 edge에 \"\\n\"을 덫붙여서 tree graph를 생성함."
   ]
  },
  {
   "cell_type": "code",
   "execution_count": 22,
   "metadata": {},
   "outputs": [
    {
     "data": {
      "image/svg+xml": [
       "<?xml version=\"1.0\" encoding=\"UTF-8\" standalone=\"no\"?>\n",
       "<!DOCTYPE svg PUBLIC \"-//W3C//DTD SVG 1.1//EN\"\n",
       " \"http://www.w3.org/Graphics/SVG/1.1/DTD/svg11.dtd\">\n",
       "<!-- Generated by graphviz version 2.40.1 (20161225.0304)\n",
       " -->\n",
       "<!-- Title: Tree Pages: 1 -->\n",
       "<svg width=\"551pt\" height=\"269pt\"\n",
       " viewBox=\"0.00 0.00 550.50 269.00\" xmlns=\"http://www.w3.org/2000/svg\" xmlns:xlink=\"http://www.w3.org/1999/xlink\">\n",
       "<g id=\"graph0\" class=\"graph\" transform=\"scale(1 1) rotate(0) translate(4 265)\">\n",
       "<title>Tree</title>\n",
       "<polygon fill=\"#ffffff\" stroke=\"transparent\" points=\"-4,4 -4,-265 546.5,-265 546.5,4 -4,4\"/>\n",
       "<!-- 0 -->\n",
       "<g id=\"node1\" class=\"node\">\n",
       "<title>0</title>\n",
       "<polygon fill=\"none\" stroke=\"#000000\" points=\"328.5,-261 109.5,-261 109.5,-208 328.5,-208 328.5,-261\"/>\n",
       "<text text-anchor=\"middle\" x=\"219\" y=\"-245.8\" font-family=\"Times,serif\" font-size=\"14.00\" fill=\"#000000\">Income &gt;= 113.5</text>\n",
       "<text text-anchor=\"middle\" x=\"219\" y=\"-230.8\" font-family=\"Times,serif\" font-size=\"14.00\" fill=\"#000000\">samples = 4000</text>\n",
       "<text text-anchor=\"middle\" x=\"219\" y=\"-215.8\" font-family=\"Times,serif\" font-size=\"14.00\" fill=\"#000000\">samples/class = [3619, 381]</text>\n",
       "</g>\n",
       "<!-- 1 -->\n",
       "<g id=\"node2\" class=\"node\">\n",
       "<title>1</title>\n",
       "<polygon fill=\"none\" stroke=\"#000000\" points=\"210,-172 0,-172 0,-104 210,-104 210,-172\"/>\n",
       "<text text-anchor=\"middle\" x=\"105\" y=\"-156.8\" font-family=\"Times,serif\" font-size=\"14.00\" fill=\"#000000\">predict = 0</text>\n",
       "<text text-anchor=\"middle\" x=\"105\" y=\"-141.8\" font-family=\"Times,serif\" font-size=\"14.00\" fill=\"#000000\">homogeneity = 0.979</text>\n",
       "<text text-anchor=\"middle\" x=\"105\" y=\"-126.8\" font-family=\"Times,serif\" font-size=\"14.00\" fill=\"#000000\">coverage = 0.804</text>\n",
       "<text text-anchor=\"middle\" x=\"105\" y=\"-111.8\" font-family=\"Times,serif\" font-size=\"14.00\" fill=\"#000000\">samples/class = [3150, 67]</text>\n",
       "</g>\n",
       "<!-- 0&#45;&gt;1 -->\n",
       "<g id=\"edge1\" class=\"edge\">\n",
       "<title>0&#45;&gt;1</title>\n",
       "<path fill=\"none\" stroke=\"#000000\" d=\"M187.5472,-207.8755C176.9448,-198.9006 164.8554,-188.6671 153.2603,-178.8519\"/>\n",
       "<polygon fill=\"#000000\" stroke=\"#000000\" points=\"155.2302,-175.9338 145.3363,-172.1443 150.7075,-181.2767 155.2302,-175.9338\"/>\n",
       "</g>\n",
       "<!-- 2 -->\n",
       "<g id=\"node3\" class=\"node\">\n",
       "<title>2</title>\n",
       "<polygon fill=\"none\" stroke=\"#000000\" points=\"438,-164.5 228,-164.5 228,-111.5 438,-111.5 438,-164.5\"/>\n",
       "<text text-anchor=\"middle\" x=\"333\" y=\"-149.3\" font-family=\"Times,serif\" font-size=\"14.00\" fill=\"#000000\">Education &gt;= 1.5</text>\n",
       "<text text-anchor=\"middle\" x=\"333\" y=\"-134.3\" font-family=\"Times,serif\" font-size=\"14.00\" fill=\"#000000\">samples = 783</text>\n",
       "<text text-anchor=\"middle\" x=\"333\" y=\"-119.3\" font-family=\"Times,serif\" font-size=\"14.00\" fill=\"#000000\">samples/class = [469, 314]</text>\n",
       "</g>\n",
       "<!-- 0&#45;&gt;2 -->\n",
       "<g id=\"edge2\" class=\"edge\">\n",
       "<title>0&#45;&gt;2</title>\n",
       "<path fill=\"none\" stroke=\"#000000\" d=\"M250.4528,-207.8755C263.9097,-196.4843 279.762,-183.0655 293.9588,-171.048\"/>\n",
       "<polygon fill=\"#000000\" stroke=\"#000000\" points=\"296.2786,-173.67 301.6499,-164.5376 291.7559,-168.3272 296.2786,-173.67\"/>\n",
       "</g>\n",
       "<!-- 3 -->\n",
       "<g id=\"node4\" class=\"node\">\n",
       "<title>3</title>\n",
       "<polygon fill=\"none\" stroke=\"#000000\" points=\"323.5,-68 122.5,-68 122.5,0 323.5,0 323.5,-68\"/>\n",
       "<text text-anchor=\"middle\" x=\"223\" y=\"-52.8\" font-family=\"Times,serif\" font-size=\"14.00\" fill=\"#000000\">predict = 0</text>\n",
       "<text text-anchor=\"middle\" x=\"223\" y=\"-37.8\" font-family=\"Times,serif\" font-size=\"14.00\" fill=\"#000000\">homogeneity = 0.885</text>\n",
       "<text text-anchor=\"middle\" x=\"223\" y=\"-22.8\" font-family=\"Times,serif\" font-size=\"14.00\" fill=\"#000000\">coverage = 0.128</text>\n",
       "<text text-anchor=\"middle\" x=\"223\" y=\"-7.8\" font-family=\"Times,serif\" font-size=\"14.00\" fill=\"#000000\">samples/class = [454, 59]</text>\n",
       "</g>\n",
       "<!-- 2&#45;&gt;3 -->\n",
       "<g id=\"edge3\" class=\"edge\">\n",
       "<title>2&#45;&gt;3</title>\n",
       "<path fill=\"none\" stroke=\"#000000\" d=\"M304.9577,-111.4873C293.358,-100.5203 279.6329,-87.5438 266.7648,-75.3776\"/>\n",
       "<polygon fill=\"#000000\" stroke=\"#000000\" points=\"268.9809,-72.6562 259.3099,-68.3293 264.1718,-77.7427 268.9809,-72.6562\"/>\n",
       "</g>\n",
       "<!-- 4 -->\n",
       "<g id=\"node5\" class=\"node\">\n",
       "<title>4</title>\n",
       "<polygon fill=\"none\" stroke=\"#000000\" points=\"542.5,-68 341.5,-68 341.5,0 542.5,0 542.5,-68\"/>\n",
       "<text text-anchor=\"middle\" x=\"442\" y=\"-52.8\" font-family=\"Times,serif\" font-size=\"14.00\" fill=\"#000000\">predict = 1</text>\n",
       "<text text-anchor=\"middle\" x=\"442\" y=\"-37.8\" font-family=\"Times,serif\" font-size=\"14.00\" fill=\"#000000\">homogeneity = 0.944</text>\n",
       "<text text-anchor=\"middle\" x=\"442\" y=\"-22.8\" font-family=\"Times,serif\" font-size=\"14.00\" fill=\"#000000\">coverage = 0.068</text>\n",
       "<text text-anchor=\"middle\" x=\"442\" y=\"-7.8\" font-family=\"Times,serif\" font-size=\"14.00\" fill=\"#000000\">samples/class = [15, 255]</text>\n",
       "</g>\n",
       "<!-- 2&#45;&gt;4 -->\n",
       "<g id=\"edge4\" class=\"edge\">\n",
       "<title>2&#45;&gt;4</title>\n",
       "<path fill=\"none\" stroke=\"#000000\" d=\"M360.7873,-111.4873C372.2816,-100.5203 385.882,-87.5438 398.6331,-75.3776\"/>\n",
       "<polygon fill=\"#000000\" stroke=\"#000000\" points=\"401.2013,-77.7648 406.0202,-68.3293 396.369,-72.7002 401.2013,-77.7648\"/>\n",
       "</g>\n",
       "</g>\n",
       "</svg>\n"
      ],
      "text/plain": [
       "<graphviz.files.Source at 0x7f047c18dbe0>"
      ]
     },
     "execution_count": 22,
     "metadata": {},
     "output_type": "execute_result"
    }
   ],
   "source": [
    "import graphviz\n",
    "graph_dir = 'graph'\n",
    "node, edge = CART_gini_ins.graph.tree_to_graph(CART_gini_graph_tree)\n",
    "tree_graph = graphviz.Source(node + edge+'\\n}')\n",
    "tree_graph\n",
    "\n",
    "# 유의사항: 왼쪽 화살표가 False, 오른쪽 화살표가 True임"
   ]
  },
  {
   "cell_type": "code",
   "execution_count": 23,
   "metadata": {},
   "outputs": [],
   "source": [
    "# PDF 파일 출력 #\n",
    "graph_dir = 'image'\n",
    "csv_dir = 'csv'\n",
    "split = 'gini'\n",
    "count = 30\n",
    "\n",
    "tree_graph.render('{0}/{1}/{2}_graph_{1}'.format(graph_dir, split, count, split))\n",
    "tree_data.to_csv('{0}/{1}/{2}_csv_{1}.csv'.format(csv_dir, split, count, split))"
   ]
  },
  {
   "cell_type": "markdown",
   "metadata": {},
   "source": [
    "## 성능 측정 ##\n",
    "> CART_gini_ins.predict에 Dataframe형태의 x,y가 동시에 존재하는 train or test data와 이전에 선언한 CART_entropy_GR_tree를 넣으면, \\\n",
    "> predict, predict probability가 각각 생성됨 "
   ]
  },
  {
   "cell_type": "code",
   "execution_count": 24,
   "metadata": {},
   "outputs": [],
   "source": [
    "# 성능측정 #\n",
    "## train predict ##\n",
    "train_CART_gini_all_pred, train_CART_gini_all_pred_prob = CART_gini_ins.predict(train, CART_gini_tree)\n",
    "\n",
    "## test predict ## \n",
    "test_CART_gini_all_pred, test_CART_gini_all_pred_prob = CART_gini_ins.predict(test, CART_gini_tree)"
   ]
  },
  {
   "cell_type": "code",
   "execution_count": 25,
   "metadata": {},
   "outputs": [],
   "source": [
    "# y의 name 넣기 \n",
    "classes = np.unique(train['Personal Loan'])\n",
    "\n",
    "# perform_check에 순서대로 train set의 y, train_CART_entropy_GR_all_pred, \n",
    "train_CART_gini_all_met = utils.perform_check(train['Personal Loan'], \\\n",
    "         train_CART_gini_all_pred, \\\n",
    "         train_CART_gini_all_pred_prob,\\\n",
    "         len(classes), CART_gini_ins.CLASS_DICT_)\n",
    "\n",
    "# \n",
    "test_CART_gini_all_met = utils.perform_check(test['Personal Loan'], \\\n",
    "         test_CART_gini_all_pred, \\\n",
    "         test_CART_gini_all_pred_prob, \\\n",
    "         len(classes), CART_gini_ins.CLASS_DICT_)"
   ]
  },
  {
   "cell_type": "code",
   "execution_count": 26,
   "metadata": {},
   "outputs": [
    {
     "data": {
      "text/plain": [
       "[0.96475,\n",
       " 0.6692913385826772,\n",
       " 0.9444444444444444,\n",
       " 0.7834101382488481,\n",
       " 0.8889366343713806]"
      ]
     },
     "execution_count": 26,
     "metadata": {},
     "output_type": "execute_result"
    }
   ],
   "source": [
    "# [accuracy, recall, precision, f1, auc] 순\n",
    "train_CART_gini_all_met"
   ]
  },
  {
   "cell_type": "code",
   "execution_count": 27,
   "metadata": {},
   "outputs": [
    {
     "data": {
      "text/plain": [
       "[0.971,\n",
       " 0.7272727272727273,\n",
       " 0.972972972972973,\n",
       " 0.8323699421965318,\n",
       " 0.8959685646700075]"
      ]
     },
     "execution_count": 27,
     "metadata": {},
     "output_type": "execute_result"
    }
   ],
   "source": [
    "# [accuracy, recall, precision, f1, auc] 순\n",
    "test_CART_gini_all_met"
   ]
  },
  {
   "cell_type": "markdown",
   "metadata": {},
   "source": [
    "### [accuracy, recall, precision, f1, auc] 순"
   ]
  },
  {
   "cell_type": "code",
   "execution_count": 28,
   "metadata": {},
   "outputs": [
    {
     "name": "stdout",
     "output_type": "stream",
     "text": [
      "\n",
      "Metric\n",
      "  : ACCURACY :0.965, RECALL :0.669, PRECISION : 0.944, F1 : 0.783, AUC : 0.889\n"
     ]
    }
   ],
   "source": [
    "perform_base_str = '{} : ACCURACY :{}, RECALL :{}, PRECISION : {}, F1 : {}, AUC : {}'\n",
    "print(perform_base_str.format('\\nMetric\\n ', \\\n",
    "            *np.round(np.array(train_CART_gini_all_met), 3)))"
   ]
  },
  {
   "cell_type": "code",
   "execution_count": 29,
   "metadata": {},
   "outputs": [
    {
     "name": "stdout",
     "output_type": "stream",
     "text": [
      "\n",
      "Metric\n",
      "  : ACCURACY :0.971, RECALL :0.727, PRECISION : 0.973, F1 : 0.832, AUC : 0.896\n"
     ]
    }
   ],
   "source": [
    "perform_base_str = '{} : ACCURACY :{}, RECALL :{}, PRECISION : {}, F1 : {}, AUC : {}'\n",
    "print(perform_base_str.format('\\nMetric\\n ', \\\n",
    "            *np.round(np.array(test_CART_gini_all_met), 3)))"
   ]
  },
  {
   "cell_type": "code",
   "execution_count": null,
   "metadata": {},
   "outputs": [],
   "source": []
  },
  {
   "cell_type": "code",
   "execution_count": null,
   "metadata": {},
   "outputs": [],
   "source": []
  },
  {
   "cell_type": "code",
   "execution_count": null,
   "metadata": {},
   "outputs": [],
   "source": []
  },
  {
   "cell_type": "code",
   "execution_count": null,
   "metadata": {},
   "outputs": [],
   "source": []
  }
 ],
 "metadata": {
  "kernelspec": {
   "display_name": "Python 3",
   "language": "python",
   "name": "python3"
  },
  "language_info": {
   "codemirror_mode": {
    "name": "ipython",
    "version": 3
   },
   "file_extension": ".py",
   "mimetype": "text/x-python",
   "name": "python",
   "nbconvert_exporter": "python",
   "pygments_lexer": "ipython3",
   "version": "3.8.1"
  }
 },
 "nbformat": 4,
 "nbformat_minor": 4
}
